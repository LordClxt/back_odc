{
 "cells": [
  {
   "cell_type": "code",
   "execution_count": 30,
   "metadata": {},
   "outputs": [],
   "source": [
    "import requests\n",
    "\n",
    "data = requests.get(\"http://127.0.0.1:8000/users/?skip=10&limit=1\")\n",
    "#Post user\n",
    "response = requests.post(\"http://127.0.0.1:8000/users\", json={\n",
    "    \"name\":\"Bance\",\n",
    "    \"first_name\":\"Issouf\",\n",
    "    \"date_of_birth\":2,\n",
    "    \"email\":\"bance@gmail.com\"\n",
    "})\n"
   ]
  },
  {
   "cell_type": "code",
   "execution_count": 31,
   "metadata": {},
   "outputs": [
    {
     "data": {
      "text/plain": [
       "'{\"name\":\"Bance\",\"first_name\":\"Issouf\",\"date_of_birth\":2,\"email\":\"bance@gmail.com\"}'"
      ]
     },
     "execution_count": 31,
     "metadata": {},
     "output_type": "execute_result"
    }
   ],
   "source": [
    "response.json()\n",
    "\n"
   ]
  }
 ],
 "metadata": {
  "kernelspec": {
   "display_name": "venv",
   "language": "python",
   "name": "python3"
  },
  "language_info": {
   "codemirror_mode": {
    "name": "ipython",
    "version": 3
   },
   "file_extension": ".py",
   "mimetype": "text/x-python",
   "name": "python",
   "nbconvert_exporter": "python",
   "pygments_lexer": "ipython3",
   "version": "3.12.9"
  }
 },
 "nbformat": 4,
 "nbformat_minor": 2
}
